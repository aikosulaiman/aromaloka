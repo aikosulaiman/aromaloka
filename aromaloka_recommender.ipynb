{
  "nbformat": 4,
  "nbformat_minor": 0,
  "metadata": {
    "colab": {
      "provenance": []
    },
    "kernelspec": {
      "name": "python3",
      "display_name": "Python 3"
    },
    "language_info": {
      "name": "python"
    }
  },
  "cells": [
    {
      "cell_type": "markdown",
      "source": [
        "# Project Aromaloka"
      ],
      "metadata": {
        "id": "evAnZVCKgfCs"
      }
    },
    {
      "cell_type": "markdown",
      "source": [
        "# Code"
      ],
      "metadata": {
        "id": "nOAxTQyJhzBL"
      }
    },
    {
      "cell_type": "markdown",
      "source": [
        "## Library"
      ],
      "metadata": {
        "id": "5FLkva3Ugi5N"
      }
    },
    {
      "cell_type": "code",
      "execution_count": null,
      "metadata": {
        "id": "OM47qw-dgZq6"
      },
      "outputs": [],
      "source": [
        "import pandas as pd\n",
        "import numpy as np\n",
        "from sklearn.feature_extraction.text import CountVectorizer\n",
        "from sklearn.metrics.pairwise import cosine_similarity\n",
        "from tensorflow.keras.models import Model\n",
        "from tensorflow.keras.layers import Input, Dense, concatenate\n",
        "from tensorflow.keras.optimizers import Adam\n",
        "from tensorflow.keras.callbacks import EarlyStopping\n",
        "import requests\n"
      ]
    },
    {
      "cell_type": "markdown",
      "source": [
        "## Request Data From API"
      ],
      "metadata": {
        "id": "igXzx3-J47cS"
      }
    },
    {
      "cell_type": "code",
      "source": [
        "# Make API request\n",
        "response_perfume = requests.get('https://aromaloka-api-muoaf7jkpa-et.a.run.app/perfumes/')"
      ],
      "metadata": {
        "id": "9tySg0GI4-aX"
      },
      "execution_count": null,
      "outputs": []
    },
    {
      "cell_type": "markdown",
      "source": [
        "## Data Preprocessing"
      ],
      "metadata": {
        "id": "9cxjHddSgm6H"
      }
    },
    {
      "cell_type": "code",
      "source": [
        "# Check if the request was successful\n",
        "if response_perfume.status_code == 200:\n",
        "    # Extract the data from the response\n",
        "    api_data = response_perfume.json()\n",
        "\n",
        "    # Convert the data to a pandas DataFrame\n",
        "    data = pd.DataFrame(api_data)\n",
        "\n",
        "    # Sort the DataFrame by the 'id' column\n",
        "    data['id'] = data['id'].astype(int)\n",
        "    data = data.sort_values('id').reset_index(drop=True)\n",
        "else:\n",
        "    print('API request failed with status code:', response.status_code)"
      ],
      "metadata": {
        "id": "5dIGhDnIgvvA"
      },
      "execution_count": null,
      "outputs": []
    },
    {
      "cell_type": "markdown",
      "source": [
        "## Feature Engineering"
      ],
      "metadata": {
        "id": "G54l64CKgzic"
      }
    },
    {
      "cell_type": "code",
      "source": [
        "fragrance_notes = data['top_notes1'] + ' ' + data['top_notes2'] + ' ' + data['top_notes3'] + ' ' + data['mid_notes1'] + ' ' + data['mid_notes2'] + ' ' + data['mid_notes3'] + ' ' + data['base_notes1'] + ' ' + data['base_notes2'] + ' ' + data['base_notes3']\n",
        "data['fragrance_notes'] = fragrance_notes\n",
        "\n",
        "# Text Preprocessing\n",
        "data['fragrance_notes'] = data['fragrance_notes'].str.lower()\n",
        "data['fragrance_notes'] = data['fragrance_notes'].str.replace('[^\\w\\s]', '')\n",
        "data['fragrance_notes'] = data['fragrance_notes'].str.split()\n",
        "\n",
        "# One-Hot Encoding\n",
        "one_hot_encoded = pd.get_dummies(data[['concentration', 'gender']])\n",
        "data = pd.concat([data, one_hot_encoded], axis=1)"
      ],
      "metadata": {
        "colab": {
          "base_uri": "https://localhost:8080/"
        },
        "id": "JU0ZeiVFg68a",
        "outputId": "95f9233e-9a5d-4ca3-fea1-64dfd9c929e3"
      },
      "execution_count": null,
      "outputs": [
        {
          "output_type": "stream",
          "name": "stderr",
          "text": [
            "<ipython-input-4-d2c82b7ad91a>:6: FutureWarning: The default value of regex will change from True to False in a future version.\n",
            "  data['fragrance_notes'] = data['fragrance_notes'].str.replace('[^\\w\\s]', '')\n"
          ]
        }
      ]
    },
    {
      "cell_type": "markdown",
      "source": [
        "## Create Input Data"
      ],
      "metadata": {
        "id": "6J_Exu2whY6S"
      }
    },
    {
      "cell_type": "code",
      "source": [
        "# Step 3: Create Input Data\n",
        "count_vectorizer = CountVectorizer()\n",
        "fragrance_matrix = count_vectorizer.fit_transform(data['fragrance_notes'].apply(' '.join))\n",
        "\n",
        "# Normalize Fragrance Matrix\n",
        "fragrance_matrix = fragrance_matrix.toarray().astype(np.float32)\n",
        "fragrance_matrix /= np.linalg.norm(fragrance_matrix, axis=1, keepdims=True)"
      ],
      "metadata": {
        "id": "xXOw4Tc4hadn"
      },
      "execution_count": null,
      "outputs": []
    },
    {
      "cell_type": "markdown",
      "source": [
        "## Build Model"
      ],
      "metadata": {
        "id": "v6fm8ouhhbZL"
      }
    },
    {
      "cell_type": "code",
      "source": [
        "# Step 4: Build Model\n",
        "perfume_input = Input(shape=(fragrance_matrix.shape[1],), name='perfume_input')\n",
        "concentration_input = Input(shape=(len(one_hot_encoded.columns),), name='concentration_input')\n",
        "gender_input = Input(shape=(len(one_hot_encoded.columns),), name='gender_input')\n",
        "\n",
        "x = concatenate([perfume_input, concentration_input, gender_input])\n",
        "\n",
        "x = Dense(64, activation='relu')(x)\n",
        "x = Dense(32, activation='relu')(x)\n",
        "output = Dense(fragrance_matrix.shape[1], activation='softmax')(x)\n",
        "\n",
        "model = Model(inputs=[perfume_input, concentration_input, gender_input], outputs=output)\n",
        "model.compile(optimizer=Adam(learning_rate=0.001), loss='categorical_crossentropy')"
      ],
      "metadata": {
        "id": "8mzAIDXPhf5Q"
      },
      "execution_count": null,
      "outputs": []
    },
    {
      "cell_type": "markdown",
      "source": [
        "## Train Model"
      ],
      "metadata": {
        "id": "9sa-4cZPhjXs"
      }
    },
    {
      "cell_type": "code",
      "source": [
        "# Step 5: Train Model\n",
        "X_perfume = fragrance_matrix\n",
        "X_concentration = one_hot_encoded.values\n",
        "X_gender = one_hot_encoded.values\n",
        "\n",
        "early_stopping = EarlyStopping(patience=5, restore_best_weights=True)\n",
        "\n",
        "model.fit([X_perfume, X_concentration, X_gender], X_perfume,\n",
        "          batch_size=32,\n",
        "          epochs=50,\n",
        "          validation_split=0.2,\n",
        "          callbacks=[early_stopping])"
      ],
      "metadata": {
        "colab": {
          "base_uri": "https://localhost:8080/"
        },
        "id": "xWp7c1ffhkoQ",
        "outputId": "8d5fbc7e-87a2-4300-9d87-8cf98a367877"
      },
      "execution_count": null,
      "outputs": [
        {
          "output_type": "stream",
          "name": "stdout",
          "text": [
            "Epoch 1/50\n",
            "9/9 [==============================] - 1s 32ms/step - loss: 17.0590 - val_loss: 16.8059\n",
            "Epoch 2/50\n",
            "9/9 [==============================] - 0s 7ms/step - loss: 16.9633 - val_loss: 16.6878\n",
            "Epoch 3/50\n",
            "9/9 [==============================] - 0s 8ms/step - loss: 16.7872 - val_loss: 16.4450\n",
            "Epoch 4/50\n",
            "9/9 [==============================] - 0s 7ms/step - loss: 16.4409 - val_loss: 15.9699\n",
            "Epoch 5/50\n",
            "9/9 [==============================] - 0s 9ms/step - loss: 15.8227 - val_loss: 15.2042\n",
            "Epoch 6/50\n",
            "9/9 [==============================] - 0s 9ms/step - loss: 14.9969 - val_loss: 14.4148\n",
            "Epoch 7/50\n",
            "9/9 [==============================] - 0s 12ms/step - loss: 14.4089 - val_loss: 14.2577\n",
            "Epoch 8/50\n",
            "9/9 [==============================] - 0s 7ms/step - loss: 14.7238 - val_loss: 15.0892\n",
            "Epoch 9/50\n",
            "9/9 [==============================] - 0s 9ms/step - loss: 16.1472 - val_loss: 17.0289\n",
            "Epoch 10/50\n",
            "9/9 [==============================] - 0s 7ms/step - loss: 18.4476 - val_loss: 19.6613\n",
            "Epoch 11/50\n",
            "9/9 [==============================] - 0s 7ms/step - loss: 21.5351 - val_loss: 22.9235\n",
            "Epoch 12/50\n",
            "9/9 [==============================] - 0s 8ms/step - loss: 24.9970 - val_loss: 26.5582\n"
          ]
        },
        {
          "output_type": "execute_result",
          "data": {
            "text/plain": [
              "<keras.callbacks.History at 0x7f2ee22f5ff0>"
            ]
          },
          "metadata": {},
          "execution_count": 7
        }
      ]
    },
    {
      "cell_type": "markdown",
      "source": [
        "## Save Model"
      ],
      "metadata": {
        "id": "36-asQBkBxkn"
      }
    },
    {
      "cell_type": "code",
      "source": [
        "# Save the trained model\n",
        "model.save('perfume_recommendation_model.h5')\n",
        "\n",
        "from google.colab import files\n",
        "\n",
        "# Specify the path of the saved model file\n",
        "model_path = 'perfume_recommendation_model.h5'\n",
        "\n",
        "# Download the model file\n",
        "files.download(model_path)"
      ],
      "metadata": {
        "colab": {
          "base_uri": "https://localhost:8080/",
          "height": 17
        },
        "id": "rLbyfNLoByvb",
        "outputId": "55ec7f28-9e9e-4b38-ced1-9b9095ad85d3"
      },
      "execution_count": null,
      "outputs": [
        {
          "output_type": "display_data",
          "data": {
            "text/plain": [
              "<IPython.core.display.Javascript object>"
            ],
            "application/javascript": [
              "\n",
              "    async function download(id, filename, size) {\n",
              "      if (!google.colab.kernel.accessAllowed) {\n",
              "        return;\n",
              "      }\n",
              "      const div = document.createElement('div');\n",
              "      const label = document.createElement('label');\n",
              "      label.textContent = `Downloading \"${filename}\": `;\n",
              "      div.appendChild(label);\n",
              "      const progress = document.createElement('progress');\n",
              "      progress.max = size;\n",
              "      div.appendChild(progress);\n",
              "      document.body.appendChild(div);\n",
              "\n",
              "      const buffers = [];\n",
              "      let downloaded = 0;\n",
              "\n",
              "      const channel = await google.colab.kernel.comms.open(id);\n",
              "      // Send a message to notify the kernel that we're ready.\n",
              "      channel.send({})\n",
              "\n",
              "      for await (const message of channel.messages) {\n",
              "        // Send a message to notify the kernel that we're ready.\n",
              "        channel.send({})\n",
              "        if (message.buffers) {\n",
              "          for (const buffer of message.buffers) {\n",
              "            buffers.push(buffer);\n",
              "            downloaded += buffer.byteLength;\n",
              "            progress.value = downloaded;\n",
              "          }\n",
              "        }\n",
              "      }\n",
              "      const blob = new Blob(buffers, {type: 'application/binary'});\n",
              "      const a = document.createElement('a');\n",
              "      a.href = window.URL.createObjectURL(blob);\n",
              "      a.download = filename;\n",
              "      div.appendChild(a);\n",
              "      a.click();\n",
              "      div.remove();\n",
              "    }\n",
              "  "
            ]
          },
          "metadata": {}
        },
        {
          "output_type": "display_data",
          "data": {
            "text/plain": [
              "<IPython.core.display.Javascript object>"
            ],
            "application/javascript": [
              "download(\"download_bea40b9a-69a3-4eaa-8b9c-7f657d95f96e\", \"perfume_recommendation_model.h5\", 484296)"
            ]
          },
          "metadata": {}
        }
      ]
    },
    {
      "cell_type": "markdown",
      "source": [
        "## Generate Recommendation"
      ],
      "metadata": {
        "id": "atshE6EYhlW2"
      }
    },
    {
      "cell_type": "code",
      "source": [
        "# Step 6: Generate Recommendations\n",
        "perfume_features_model = Model(inputs=[perfume_input, concentration_input, gender_input], outputs=x)\n",
        "perfume_features = perfume_features_model.predict([X_perfume, X_concentration, X_gender])\n",
        "\n",
        "def get_recommendations(perfume_ids, top_n=5):\n",
        "    all_recommendations = []\n",
        "\n",
        "    for perfume_id in perfume_ids:\n",
        "        perfume_index = data[data['id'] == perfume_id].index\n",
        "        if len(perfume_index) > 0:\n",
        "            perfume_index = perfume_index[0]\n",
        "            similarity_scores_per_perfume = cosine_similarity([perfume_features[perfume_index]], perfume_features)[0]\n",
        "            similar_perfume_indices = np.argsort(-similarity_scores_per_perfume)[1:top_n+1]\n",
        "            similar_perfumes = data.loc[similar_perfume_indices, 'id']\n",
        "            # similarity_scores = similarity_scores_per_perfume[similar_perfume_indices]\n",
        "            all_recommendations.extend(similar_perfumes.values)\n",
        "\n",
        "    unique_recommendations = list(set(all_recommendations))\n",
        "    return unique_recommendations[:top_n]"
      ],
      "metadata": {
        "colab": {
          "base_uri": "https://localhost:8080/"
        },
        "id": "suVBybUghqbu",
        "outputId": "6d21bc54-ef69-4b35-94d0-be4d63e6050a"
      },
      "execution_count": null,
      "outputs": [
        {
          "output_type": "stream",
          "name": "stdout",
          "text": [
            "11/11 [==============================] - 0s 2ms/step\n"
          ]
        }
      ]
    },
    {
      "cell_type": "markdown",
      "source": [
        "# Example of Use"
      ],
      "metadata": {
        "id": "t6XnSQfPhrQC"
      }
    },
    {
      "cell_type": "code",
      "source": [
        "# Example usage\n",
        "perfume_ids = [6, 1, 284]  # Specify the perfume IDs for which you want recommendations\n",
        "recommendations = get_recommendations(perfume_ids)\n",
        "print(\"=============== Perfume Input ===============\")\n",
        "for id in perfume_ids:\n",
        "  matching_rows = data.loc[data['id'] == id]\n",
        "  if len(matching_rows) > 0:\n",
        "      perfume_brand = matching_rows['brand'].values[0]\n",
        "      perfume_variant = matching_rows['variant'].values[0]\n",
        "      perfume_gender = matching_rows['gender'].values[0]\n",
        "      fragrance_notes = ','.join(matching_rows['fragrance_notes'].values[0])\n",
        "      print(\"Perfume ID:\", id)\n",
        "      print(\"Perfume Brand:\", perfume_brand)\n",
        "      print(\"Perfume Variant:\", perfume_variant)\n",
        "      print(\"Perfume Gender:\", perfume_gender)\n",
        "      print(\"Fragrance Notes:\", fragrance_notes)\n",
        "      print()\n",
        "\n",
        "print(\"=============== Recommendation (Top 5) ===============\")\n",
        "for recommendation in recommendations:\n",
        "    matching_rows = data.loc[data['id'] == recommendation]\n",
        "    if len(matching_rows) > 0:\n",
        "        perfume_brand = matching_rows['brand'].values[0]\n",
        "        perfume_variant = matching_rows['variant'].values[0]\n",
        "        perfume_gender = matching_rows['gender'].values[0]\n",
        "        fragrance_notes = ','.join(matching_rows['fragrance_notes'].values[0])\n",
        "        similarity_score = cosine_similarity([perfume_features[data[data['id'] == recommendation].index[0]]], perfume_features)[0][0]\n",
        "        print(\"Perfume ID:\", recommendation)\n",
        "        print(\"Perfume Brand:\", perfume_brand)\n",
        "        print(\"Perfume Variant:\", perfume_variant)\n",
        "        print(\"Perfume Gender:\", perfume_gender)\n",
        "        print(\"Similarity Score:\", similarity_score)\n",
        "        print(\"Fragrance Notes:\", fragrance_notes)\n",
        "        print()\n",
        "    else:\n",
        "        print(\"No matching data found for perfume ID:\", recommendation)"
      ],
      "metadata": {
        "colab": {
          "base_uri": "https://localhost:8080/"
        },
        "id": "HHMSq2kcht2A",
        "outputId": "7b55141d-1a75-4028-cc5b-8a776d6d42af"
      },
      "execution_count": null,
      "outputs": [
        {
          "output_type": "stream",
          "name": "stdout",
          "text": [
            "=============== Perfume Input ===============\n",
            "Perfume ID: 6\n",
            "Perfume Brand: Alien Objects\n",
            "Perfume Variant: XOXO\n",
            "Perfume Gender: Feminime\n",
            "Fragrance Notes: dew,strawberry,lotus,tulip,musk,oakmoss,orange,blossom\n",
            "\n",
            "Perfume ID: 1\n",
            "Perfume Brand: Alchemist\n",
            "Perfume Variant: Powder Room\n",
            "Perfume Gender: Unisex\n",
            "Fragrance Notes: watery,red,rose,pink,pepper,violet,orange,blossom,peony,musk,marine,sandalwood\n",
            "\n",
            "Perfume ID: 284\n",
            "Perfume Brand: S.TOI Fragrances\n",
            "Perfume Variant: Indigo\n",
            "Perfume Gender: Masculine\n",
            "Fragrance Notes: calabrian,bergamot,grapefruit,hazelnut,cedarwood,honey,spices,amber,oakmoss,woody\n",
            "\n",
            "=============== Recommendation (Top 5) ===============\n",
            "Perfume ID: 225\n",
            "Perfume Brand: OUDS\n",
            "Perfume Variant: PSYCH\n",
            "Perfume Gender: Unisex\n",
            "Similarity Score: 0.9994128\n",
            "Fragrance Notes: aldehyde,bergamot,lemon,apple,violet,pineapple,ambergris,musk,cedarwood\n",
            "\n",
            "Perfume ID: 131\n",
            "Perfume Brand: Joie the Lab\n",
            "Perfume Variant: Memoir\n",
            "Perfume Gender: Masculine\n",
            "Similarity Score: 0.993135\n",
            "Fragrance Notes: calabrian,bergamot,black,pepper,sichuan,pepper,lavender,pink,pepper,ambroxan,cedarwood,labdanum\n",
            "\n",
            "Perfume ID: 262\n",
            "Perfume Brand: Readyset\n",
            "Perfume Variant: 59\n",
            "Perfume Gender: Feminime\n",
            "Similarity Score: 0.9948464\n",
            "Fragrance Notes: gardenia,pear,watery,ylang,ylang,cinnamon,orange,flower,cashmere,suede,oakmoss\n",
            "\n",
            "Perfume ID: 167\n",
            "Perfume Brand: Maison William Sicher\n",
            "Perfume Variant: Sanctuary Forest\n",
            "Perfume Gender: Unisex\n",
            "Similarity Score: 0.9994334\n",
            "Fragrance Notes: orange,raspberry,blue,red,rose,red,rose,cashmere,musk\n",
            "\n",
            "Perfume ID: 266\n",
            "Perfume Brand: Readyset\n",
            "Perfume Variant: Monday\n",
            "Perfume Gender: Feminime\n",
            "Similarity Score: 0.99558866\n",
            "Fragrance Notes: ylang,ylang,sage,apple,neroli,narcissus,iris,amber,musk,tonka,bean\n",
            "\n"
          ]
        }
      ]
    }
  ]
}